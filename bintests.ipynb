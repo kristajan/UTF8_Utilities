{
 "cells": [
  {
   "cell_type": "code",
   "execution_count": 24,
   "id": "b1d07a27-ef8f-48cf-8672-75a573578510",
   "metadata": {},
   "outputs": [
    {
     "name": "stdout",
     "output_type": "stream",
     "text": [
      "2025-01-21 16:34:10.419844\n"
     ]
    }
   ],
   "source": [
    "import re\n",
    "import regex  # the re.sub(r\"\\r\" and others don't work otherwise\n",
    "import datetime\n",
    "def prnow():\n",
    "    print(datetime.datetime.now())\n",
    "prnow()\n"
   ]
  },
  {
   "cell_type": "code",
   "execution_count": 25,
   "id": "5dd48bd8-3065-4e7e-994b-722180468b91",
   "metadata": {},
   "outputs": [
    {
     "name": "stdout",
     "output_type": "stream",
     "text": [
      "b'hi world'\n",
      "abcdefg\n"
     ]
    }
   ],
   "source": [
    "pattern = br'hello'\n",
    "text = b'hello world'\n",
    "# Replace 'hello' with 'hi' in the bytes string\n",
    "result = re.sub(pattern, b'hi', text)\n",
    "print(result)\n",
    "bytes = b\"abcdefg\"\n",
    "string = bytes.decode(\"utf-8\", \"ignore\") \n",
    "print(string)\n"
   ]
  },
  {
   "cell_type": "code",
   "execution_count": 12,
   "id": "50e5a13d-a6e2-4d6d-a640-cc4a72587693",
   "metadata": {},
   "outputs": [
    {
     "name": "stdout",
     "output_type": "stream",
     "text": [
      "<class 'str'>\n",
      "b'Hello\\xe2\\x80\\xafWorld'\n"
     ]
    }
   ],
   "source": [
    "#utf16_string = b\"Hello \\u202f World\".encode(utf-16,errors='strict')\n",
    "#utf16_string = ('Hello' + b'\\u202f' + 'World').encode(utf-16,errors='strict')\n",
    "utf16_string = ('Hello' + u'\\u202f' + 'World')\n",
    "print(f\"{type(utf16_string)}\")\n",
    "# Decode from UTF-16 to Python's internal Unicode representation\n",
    "#decoded_string = utf16_string.decode('utf-16', errors='ignore')\n",
    "#AttributeError: 'str' object has no attribute 'decode'\n",
    "# Encode to UTF-8\n",
    "utf8_string = utf16_string.encode('utf-8',errors='ignore')\n",
    "print(utf8_string) "
   ]
  },
  {
   "cell_type": "code",
   "execution_count": 13,
   "id": "1e10382e-65f3-4a6c-8bdf-9d508bc05700",
   "metadata": {},
   "outputs": [
    {
     "name": "stdout",
     "output_type": "stream",
     "text": [
      "b'Hello'\n",
      "a\u0000202fb\n",
      " \n",
      "a\u0000202fb\n"
     ]
    }
   ],
   "source": [
    "print(b'Hello')\n",
    "u16 = u'\\x61\\u0000202f\\x62'\n",
    "#print(u16.decode('utf-16').encode('utf-8') ) #AttributeError: 'str' object has no attribute 'decode'\n",
    "print(u16)\n",
    "print('\\u202f')\n",
    "print(u16)\n"
   ]
  },
  {
   "cell_type": "code",
   "execution_count": 16,
   "id": "5432f713-c85e-4c88-a919-341cd3b732cb",
   "metadata": {},
   "outputs": [
    {
     "name": "stdout",
     "output_type": "stream",
     "text": [
      "fin.tell()=1057\n",
      "wrote read/write  ./testfile\n"
     ]
    },
    {
     "name": "stderr",
     "output_type": "stream",
     "text": [
      "<>:8: SyntaxWarning: invalid escape sequence '\\u'\n",
      "<>:8: SyntaxWarning: invalid escape sequence '\\u'\n",
      "C:\\Users\\krista\\AppData\\Local\\Temp\\ipykernel_3848\\2755928918.py:8: SyntaxWarning: invalid escape sequence '\\u'\n",
      "  fin.write(b'\\x93\\x41\\x20\\x42\\x20\\x16\\x43\\x20\\u202f\\x20\\x44\\x20')  # or writeline??\n"
     ]
    }
   ],
   "source": [
    "# normally would want separate outfile, but was just trying 'rb+' - it overwrites\n",
    "inoutfile = './testfile'\n",
    "try:\n",
    "    with open(inoutfile, 'rb+') as fin:\n",
    "        #bytestr = fin.read(1040)  # or use seek()\n",
    "        bytestr = fin.seek(1040)\n",
    "        \n",
    "        fin.write(b'\\x93\\x41\\x20\\x42\\x20\\x16\\x43\\x20\\u202f\\x20\\x44\\x20')  # or writeline??\n",
    "        print(f\"{fin.tell()=}\")\n",
    "    fin.close()\n",
    "except Exception as e:\n",
    "    print(f\"{e=}\")\n",
    "# it works with syntax warnings and is now binary file\n",
    "print(\"wrote read/write \", inoutfile)"
   ]
  },
  {
   "cell_type": "code",
   "execution_count": 17,
   "id": "ceabec66-52ea-4676-abcf-cf7c59e58e9b",
   "metadata": {},
   "outputs": [
    {
     "name": "stdout",
     "output_type": "stream",
     "text": [
      "unicode decode utf-8 has failed\n",
      " 'utf-8' codec can't decode byte 0x93 in position 1040: invalid start byte\n",
      "nums=['8', '0', '93', '1040']\n",
      "len(numslist)=1 numslist=[['8', '0', '93', '1040']]\n"
     ]
    }
   ],
   "source": [
    "# This identifies the first bad byte\n",
    "infile = './testfile'\n",
    "def numofbadbyte():\n",
    "    numslist = []\n",
    "    try:\n",
    "        with open(infile, 'r', encoding='utf-8') as fin:\n",
    "            utf8str = fin.read()\n",
    "    except UnicodeDecodeError as e:\n",
    "        print('unicode decode utf-8 has failed\\n', e)\n",
    "        nums = re.findall(r'\\d+' , str(e))\n",
    "        numslist.append(nums)\n",
    "        print(f\"{nums=}\")\n",
    "    except Exception as e:\n",
    "        print('other err for utf8\\n', e)\n",
    "    print(f\"{len(numslist)=} {numslist=}\")\n",
    "numofbadbyte()\n"
   ]
  },
  {
   "cell_type": "code",
   "execution_count": 26,
   "id": "d6666aa8-04b5-4a94-9d24-a87833214be7",
   "metadata": {},
   "outputs": [
    {
     "name": "stdout",
     "output_type": "stream",
     "text": [
      "limit=300\n",
      "starting open 'rb'\n",
      "trying open 'rb'\n",
      "line_count=262\n",
      "if len(ln) is 0, break, lnnbr=263\n",
      "num_lines=262\n",
      "wrote file  ./plaintext\n"
     ]
    }
   ],
   "source": [
    "# Write similar to findlinenbrforbadbyte but without line and byte numbers\n",
    "def printasplaintext():\n",
    "    lnnbr = 0\n",
    "    limit = 300  # CHANGE THIS FOR LONGER FILES\n",
    "    print(f\"{limit=}\")\n",
    "    print(\"starting open 'rb'\")\n",
    "    try:\n",
    "        print(\"trying open 'rb'\")\n",
    "        with open(infile, 'rb') as fin:\n",
    "            line_count = sum(1 for line in fin)\n",
    "            fin.seek(0,0)\n",
    "            fin.close()\n",
    "        with open(infile, 'rb') as fin:\n",
    "            print(f\"{line_count=}\")\n",
    "            with open(outfile, 'w+') as fout:\n",
    "                while(lnnbr < limit) and (lnnbr <= line_count):\n",
    "                    lnnbr += 1  # in this case, increment just for trying for safety\n",
    "                    try:\n",
    "                        ln = fin.readline()\n",
    "                        if len(ln) == 0:\n",
    "                            print(f\"if len(ln) is 0, break, {lnnbr=}\")\n",
    "                            break\n",
    "                        #print(\"trying rb readline\")\n",
    "                        fout.write(str(ln) + '\\n')\n",
    "                    except Exception as e:\n",
    "                        print(e)\n",
    "                        return\n",
    "    except Exception as e:\n",
    "        print(f\"{e=}\")\n",
    "    fin.close()  # not needed, but just to remember\n",
    "    fout.close()\n",
    "    with open(outfile, \"rb\") as f:\n",
    "        num_lines = sum(1 for _ in f)\n",
    "        print(f\"{num_lines=}\")\n",
    "        f.close()\n",
    "infile = './testfile'\n",
    "outfile = './plaintext'\n",
    "printasplaintext()\n",
    "print(\"wrote file \", outfile)\n"
   ]
  },
  {
   "cell_type": "code",
   "execution_count": 34,
   "id": "b6ed4eb6-9f03-4380-997a-d114aaae2db1",
   "metadata": {},
   "outputs": [
    {
     "name": "stdout",
     "output_type": "stream",
     "text": [
      "limit=300\n",
      "starting open 'r' utf-8\n",
      "trying open 'r' utf8\n",
      "wrote file  ./alltransfixed\n"
     ]
    }
   ],
   "source": [
    "# Now, could I feed the assert byte numbers, numslines[] into it?\n",
    "# or read the generated output file which has literal \\xdd and \\\\udddd\n",
    "import regex # the re.sub(r\"\\r\" and others don't work otherwise\n",
    "def fixnonreadables(infile):\n",
    "    lnnbr = 0\n",
    "    limit = 300  # CHANGE THIS FOR LONGER FILES\n",
    "    print(f\"{limit=}\")\n",
    "    unicodenewlines = u'[\\u00a0\\u1680\\u180E\\u2000\\u2001\\u2002\\u2003\\u2004\\u2005\\u2006\\u2007\\u2008\\u2009\\u200A\\u200B\\u202F\\u205F\\u3000\\uFEFF]'\n",
    "    print(\"starting open 'r' utf-8\")\n",
    "    try:\n",
    "        print(\"trying open 'r' utf8\")\n",
    "        with open(infile, 'r', encoding='utf-8') as fin:\n",
    "            line_count = sum(1 for line in fin)\n",
    "            fin.seek(0,0)\n",
    "            with open(outfile, 'w+') as fout:\n",
    "                while(lnnbr < limit) & (lnnbr <= line_count):\n",
    "                    lnnbr += 1  # in this case, increment just for trying for safety\n",
    "                    try:\n",
    "                        ln = fin.readline()\n",
    "                        newln = str(ln)\n",
    "                        newln = re.sub(r\"^b'\" , \"\" , newln)\n",
    "                        newln = re.sub(r'^b\"' , \"\" , newln)\n",
    "                        newln = re.sub(r\"\\\\n'$\" , \"\" , newln)  # works\n",
    "                        newln = re.sub(r'\\\\n\"$' , '' , newln)  # does work\n",
    "                        newln = re.sub(r\"\\\\xe2\\\\x80\\\\99\" , \"'\" , newln)\n",
    "                        newln = re.sub(r\"\\\\xe2\\\\x80\\\\x93\" , \"-\" , newln)\n",
    "                        newln = re.sub(r\"\\\\x93\", \"-\", newln)  # works\n",
    "                        newln = re.sub(r\"\\\\x[0-9a-fA-F]{2}\" , \"\" , newln)  # works\n",
    "                        newln = re.sub(r\"\\\\\\\\u[0-9a-fA-F]{8}\", \"\\n\", newln)  #\n",
    "                        newln = re.sub(r\"\\\\\\\\u[0-9a-fA-F]{4}\", \"\\n\", newln)  # works\n",
    "                        fout.write(newln + '\\n')\n",
    "                    except Exception as e:\n",
    "                        print(e)\n",
    "                        return\n",
    "    except Exception as e:\n",
    "        print(f\"{e=}\")\n",
    "    fin.close()  # not needed, but just to remember\n",
    "    fout.close()\n",
    "infile = './plaintext'\n",
    "outfile = './alltransfixed'\n",
    "fixnonreadables(infile)\n",
    "print(\"wrote file \", outfile)\n",
    "# now run cleanpy.sh or .py equivalent"
   ]
  },
  {
   "cell_type": "code",
   "execution_count": 33,
   "id": "58bdde52-b23e-4c77-ae69-94f0e6689860",
   "metadata": {},
   "outputs": [
    {
     "name": "stdout",
     "output_type": "stream",
     "text": [
      "limit=300\n",
      "trying open 'r' utf8\n",
      "wrote file  ./alltranscleaned\n"
     ]
    }
   ],
   "source": [
    "def cleanexcessblanklines():\n",
    "    lnnbr = 0\n",
    "    limit = 300  # CHANGE THIS FOR LONGER FILES\n",
    "    print(f\"{limit=}\")\n",
    "    ln = ''\n",
    "    try:\n",
    "        print(\"trying open 'r' utf8\")\n",
    "        with open(infile, 'r', encoding='utf-8') as fin:\n",
    "            line_count = sum(1 for line in fin)\n",
    "            fin.seek(0,0)\n",
    "            with open(outfile, 'w+') as fout:\n",
    "                while(lnnbr < limit) & (lnnbr <= line_count):\n",
    "                    lnnbr += 1  # in this case, increment just for trying for safety\n",
    "                    try:\n",
    "                        ln = fin.readline()\n",
    "                        newln = str(ln)\n",
    "                        #newln = re.sub(r\"^b'\" , \"\" , newln)\n",
    "                        #newln = re.sub(r\"'$\" , \"\" , newln)\n",
    "                        newln = re.sub(r\"^[\\t \\r\\n]*$\" , \"\" , newln)\n",
    "                        \n",
    "                        fout.write(newln)\n",
    "                    except Exception as e:\n",
    "                        print(e)\n",
    "                        return\n",
    "    except Exception as e:\n",
    "        print(f\"{e=}\")\n",
    "    fin.close()  # not needed, but just to remember\n",
    "    fout.close()\n",
    "infile = './alltransfixed'\n",
    "outfile = './alltranscleaned'\n",
    "cleanexcessblanklines()\n",
    "print(\"wrote file \", outfile)\n"
   ]
  },
  {
   "cell_type": "code",
   "execution_count": 1,
   "id": "7f1b3899-d4ad-4a8f-952b-9290393b9724",
   "metadata": {},
   "outputs": [
    {
     "name": "stdout",
     "output_type": "stream",
     "text": [
      "limit=300\n",
      "starting open 'rb'\n",
      "trying open 'rb'\n",
      "line_count=4\n",
      "wrote  4 lines to  ./bytetestByteNumber.txt\n"
     ]
    }
   ],
   "source": [
    "# This prints the whole file with line numbers and byte numbers\n",
    "# It has \\n as a literal as well as \\xdd and \\udddd\n",
    "def writelinenbrsandbytes():\n",
    "    global writecnt\n",
    "    writecnt = 0\n",
    "    lnnbr = 0\n",
    "    limit = 300\n",
    "    print(f\"{limit=}\")\n",
    "    bytenbr = 0\n",
    "    oldbytenbr = 0\n",
    "    print(\"starting open 'rb'\")\n",
    "    try:\n",
    "        print(\"trying open 'rb'\")\n",
    "        with open(infile, 'rb') as fin:\n",
    "            line_count = sum(1 for line in fin)\n",
    "            print(f\"{line_count=}\")\n",
    "            fin.close()\n",
    "        with open(infile, 'rb') as fin:\n",
    "            with open(outfile, 'w+') as fout:\n",
    "                while(lnnbr < limit) and (lnnbr < line_count):\n",
    "                    try:\n",
    "                        #print(\"trying rb readline\")\n",
    "                        ln = fin.readline()\n",
    "                        '''\n",
    "                        if str(ln) == '':\n",
    "                            print(\"hit if not ln\")\n",
    "                            break\n",
    "                        ''';\n",
    "                        lnnbr += 1  # in this case, set the actual line number to print\n",
    "                        oldbytenbr = bytenbr\n",
    "                        nextnbr = bytenbr + 1\n",
    "                        bytenbr = bytenbr + len(ln)\n",
    "                        outline = 'line ' + str(lnnbr) + ' byte ' + str(nextnbr) + ' ' + str(ln) + ' byte ' + str(bytenbr) + '\\n'\n",
    "                        if (\"\\\\u\" in outline):\n",
    "                            print('Unreadable problem byte in line ', lnnbr)\n",
    "                        if (\"\\\\xe2\\\\80\" in outline) & (\"\\\\93\" not in outline) & (\"\\\\99\" not in outline):\n",
    "                            print('special character in line ', lnnbr)\n",
    "                        fout.write(outline)\n",
    "                        writecnt += 1\n",
    "                    except Exception as e:\n",
    "                        print(e)\n",
    "                        return\n",
    "    except Exception as e:\n",
    "        print(f\"{e=}\")\n",
    "    fin.close()  # not needed, but just to remember\n",
    "    fout.close()\n",
    "infile = './bytetest.txt'\n",
    "outfile = './bytetestByteNumber.txt'\n",
    "writelinenbrsandbytes()\n",
    "print(\"wrote \", writecnt, \"lines to \", outfile)\n"
   ]
  },
  {
   "cell_type": "code",
   "execution_count": null,
   "id": "4655a3d8-e692-4616-8b1b-022787cb32a6",
   "metadata": {},
   "outputs": [],
   "source": []
  }
 ],
 "metadata": {
  "kernelspec": {
   "display_name": "Python 3 (ipykernel)",
   "language": "python",
   "name": "python3"
  },
  "language_info": {
   "codemirror_mode": {
    "name": "ipython",
    "version": 3
   },
   "file_extension": ".py",
   "mimetype": "text/x-python",
   "name": "python",
   "nbconvert_exporter": "python",
   "pygments_lexer": "ipython3",
   "version": "3.12.7"
  }
 },
 "nbformat": 4,
 "nbformat_minor": 5
}
